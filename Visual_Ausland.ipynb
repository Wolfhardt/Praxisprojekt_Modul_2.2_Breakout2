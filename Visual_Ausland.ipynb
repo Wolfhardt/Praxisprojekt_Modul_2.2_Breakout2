{
 "cells": [
  {
   "cell_type": "code",
   "execution_count": 114,
   "metadata": {},
   "outputs": [],
   "source": [
    "import pandas as pd\n",
    "import numpy as np\n",
    "from datetime import datetime \n",
    "import seaborn as sns\n",
    "import matplotlib.pyplot as plt\n",
    "import ipywidgets as widgets\n",
    "from IPython.display import display\n",
    "from matplotlib.pyplot import figure"
   ]
  },
  {
   "cell_type": "code",
   "execution_count": null,
   "metadata": {},
   "outputs": [],
   "source": [
    "ausland"
   ]
  },
  {
   "cell_type": "code",
   "execution_count": 7,
   "metadata": {},
   "outputs": [
    {
     "data": {
      "text/html": [
       "<div>\n",
       "<style scoped>\n",
       "    .dataframe tbody tr th:only-of-type {\n",
       "        vertical-align: middle;\n",
       "    }\n",
       "\n",
       "    .dataframe tbody tr th {\n",
       "        vertical-align: top;\n",
       "    }\n",
       "\n",
       "    .dataframe thead th {\n",
       "        text-align: right;\n",
       "    }\n",
       "</style>\n",
       "<table border=\"1\" class=\"dataframe\">\n",
       "  <thead>\n",
       "    <tr style=\"text-align: right;\">\n",
       "      <th></th>\n",
       "      <th>Datum</th>\n",
       "      <th>Umsatz_A</th>\n",
       "      <th>Umsatz_B_diff</th>\n",
       "      <th>Umsatz_C_diff</th>\n",
       "    </tr>\n",
       "  </thead>\n",
       "  <tbody>\n",
       "    <tr>\n",
       "      <th>0</th>\n",
       "      <td>2021-01-01</td>\n",
       "      <td>17.132115</td>\n",
       "      <td>189.467425</td>\n",
       "      <td>18392.056339</td>\n",
       "    </tr>\n",
       "    <tr>\n",
       "      <th>1</th>\n",
       "      <td>2021-01-02</td>\n",
       "      <td>57.353725</td>\n",
       "      <td>97.000000</td>\n",
       "      <td>150.353614</td>\n",
       "    </tr>\n",
       "    <tr>\n",
       "      <th>2</th>\n",
       "      <td>2021-01-03</td>\n",
       "      <td>114.746857</td>\n",
       "      <td>60.000000</td>\n",
       "      <td>589.032382</td>\n",
       "    </tr>\n",
       "    <tr>\n",
       "      <th>3</th>\n",
       "      <td>2021-01-04</td>\n",
       "      <td>113.251181</td>\n",
       "      <td>95.000000</td>\n",
       "      <td>272.403917</td>\n",
       "    </tr>\n",
       "    <tr>\n",
       "      <th>4</th>\n",
       "      <td>2021-01-05</td>\n",
       "      <td>4.186462</td>\n",
       "      <td>4.000000</td>\n",
       "      <td>-30.435265</td>\n",
       "    </tr>\n",
       "  </tbody>\n",
       "</table>\n",
       "</div>"
      ],
      "text/plain": [
       "        Datum    Umsatz_A  Umsatz_B_diff  Umsatz_C_diff\n",
       "0  2021-01-01   17.132115     189.467425   18392.056339\n",
       "1  2021-01-02   57.353725      97.000000     150.353614\n",
       "2  2021-01-03  114.746857      60.000000     589.032382\n",
       "3  2021-01-04  113.251181      95.000000     272.403917\n",
       "4  2021-01-05    4.186462       4.000000     -30.435265"
      ]
     },
     "execution_count": 7,
     "metadata": {},
     "output_type": "execute_result"
    }
   ],
   "source": [
    "ausland_cleaned_csv = pd.read_csv(\"cleaned_data_ausland.csv\",  delimiter=\",\")\n",
    "ausland_cleaned_csv.head()"
   ]
  },
  {
   "cell_type": "code",
   "execution_count": 46,
   "metadata": {},
   "outputs": [
    {
     "name": "stderr",
     "output_type": "stream",
     "text": [
      "C:\\Users\\User\\AppData\\Local\\Temp\\ipykernel_15108\\1981627072.py:1: SettingWithCopyWarning: \n",
      "A value is trying to be set on a copy of a slice from a DataFrame\n",
      "\n",
      "See the caveats in the documentation: https://pandas.pydata.org/pandas-docs/stable/user_guide/indexing.html#returning-a-view-versus-a-copy\n",
      "  ausland_cleaned_csv['Umsatz_C_diff'][0] = ausland_cleaned_csv['Umsatz_C_diff'].median()\n"
     ]
    },
    {
     "data": {
      "text/html": [
       "<div>\n",
       "<style scoped>\n",
       "    .dataframe tbody tr th:only-of-type {\n",
       "        vertical-align: middle;\n",
       "    }\n",
       "\n",
       "    .dataframe tbody tr th {\n",
       "        vertical-align: top;\n",
       "    }\n",
       "\n",
       "    .dataframe thead th {\n",
       "        text-align: right;\n",
       "    }\n",
       "</style>\n",
       "<table border=\"1\" class=\"dataframe\">\n",
       "  <thead>\n",
       "    <tr style=\"text-align: right;\">\n",
       "      <th></th>\n",
       "      <th>Datum</th>\n",
       "      <th>Umsatz_A</th>\n",
       "      <th>Umsatz_B_diff</th>\n",
       "      <th>Umsatz_C_diff</th>\n",
       "    </tr>\n",
       "  </thead>\n",
       "  <tbody>\n",
       "    <tr>\n",
       "      <th>0</th>\n",
       "      <td>2021-01-01</td>\n",
       "      <td>17.132115</td>\n",
       "      <td>189.467425</td>\n",
       "      <td>459.380813</td>\n",
       "    </tr>\n",
       "    <tr>\n",
       "      <th>1</th>\n",
       "      <td>2021-01-02</td>\n",
       "      <td>57.353725</td>\n",
       "      <td>97.000000</td>\n",
       "      <td>150.353614</td>\n",
       "    </tr>\n",
       "    <tr>\n",
       "      <th>2</th>\n",
       "      <td>2021-01-03</td>\n",
       "      <td>114.746857</td>\n",
       "      <td>60.000000</td>\n",
       "      <td>589.032382</td>\n",
       "    </tr>\n",
       "    <tr>\n",
       "      <th>3</th>\n",
       "      <td>2021-01-04</td>\n",
       "      <td>113.251181</td>\n",
       "      <td>95.000000</td>\n",
       "      <td>272.403917</td>\n",
       "    </tr>\n",
       "    <tr>\n",
       "      <th>4</th>\n",
       "      <td>2021-01-05</td>\n",
       "      <td>4.186462</td>\n",
       "      <td>4.000000</td>\n",
       "      <td>-30.435265</td>\n",
       "    </tr>\n",
       "  </tbody>\n",
       "</table>\n",
       "</div>"
      ],
      "text/plain": [
       "        Datum    Umsatz_A  Umsatz_B_diff  Umsatz_C_diff\n",
       "0  2021-01-01   17.132115     189.467425     459.380813\n",
       "1  2021-01-02   57.353725      97.000000     150.353614\n",
       "2  2021-01-03  114.746857      60.000000     589.032382\n",
       "3  2021-01-04  113.251181      95.000000     272.403917\n",
       "4  2021-01-05    4.186462       4.000000     -30.435265"
      ]
     },
     "execution_count": 46,
     "metadata": {},
     "output_type": "execute_result"
    }
   ],
   "source": [
    "ausland_cleaned_csv['Umsatz_C_diff'][0] = ausland_cleaned_csv['Umsatz_C_diff'].median()\n",
    "ausland_cleaned_csv.head()"
   ]
  },
  {
   "cell_type": "code",
   "execution_count": 88,
   "metadata": {},
   "outputs": [
    {
     "data": {
      "text/html": [
       "<div>\n",
       "<style scoped>\n",
       "    .dataframe tbody tr th:only-of-type {\n",
       "        vertical-align: middle;\n",
       "    }\n",
       "\n",
       "    .dataframe tbody tr th {\n",
       "        vertical-align: top;\n",
       "    }\n",
       "\n",
       "    .dataframe thead th {\n",
       "        text-align: right;\n",
       "    }\n",
       "</style>\n",
       "<table border=\"1\" class=\"dataframe\">\n",
       "  <thead>\n",
       "    <tr style=\"text-align: right;\">\n",
       "      <th></th>\n",
       "      <th>Datum</th>\n",
       "      <th>Umsatz_A</th>\n",
       "      <th>Umsatz_B_diff</th>\n",
       "      <th>Umsatz_C_diff</th>\n",
       "    </tr>\n",
       "  </thead>\n",
       "  <tbody>\n",
       "    <tr>\n",
       "      <th>0</th>\n",
       "      <td>2021-01-01</td>\n",
       "      <td>17.132115</td>\n",
       "      <td>189.467425</td>\n",
       "      <td>459.380813</td>\n",
       "    </tr>\n",
       "    <tr>\n",
       "      <th>1</th>\n",
       "      <td>2021-01-02</td>\n",
       "      <td>57.353725</td>\n",
       "      <td>97.000000</td>\n",
       "      <td>150.353614</td>\n",
       "    </tr>\n",
       "    <tr>\n",
       "      <th>2</th>\n",
       "      <td>2021-01-03</td>\n",
       "      <td>114.746857</td>\n",
       "      <td>60.000000</td>\n",
       "      <td>589.032382</td>\n",
       "    </tr>\n",
       "    <tr>\n",
       "      <th>3</th>\n",
       "      <td>2021-01-04</td>\n",
       "      <td>113.251181</td>\n",
       "      <td>95.000000</td>\n",
       "      <td>272.403917</td>\n",
       "    </tr>\n",
       "    <tr>\n",
       "      <th>4</th>\n",
       "      <td>2021-01-05</td>\n",
       "      <td>4.186462</td>\n",
       "      <td>4.000000</td>\n",
       "      <td>-30.435265</td>\n",
       "    </tr>\n",
       "  </tbody>\n",
       "</table>\n",
       "</div>"
      ],
      "text/plain": [
       "        Datum    Umsatz_A  Umsatz_B_diff  Umsatz_C_diff\n",
       "0  2021-01-01   17.132115     189.467425     459.380813\n",
       "1  2021-01-02   57.353725      97.000000     150.353614\n",
       "2  2021-01-03  114.746857      60.000000     589.032382\n",
       "3  2021-01-04  113.251181      95.000000     272.403917\n",
       "4  2021-01-05    4.186462       4.000000     -30.435265"
      ]
     },
     "execution_count": 88,
     "metadata": {},
     "output_type": "execute_result"
    }
   ],
   "source": [
    "ausland_tages = ausland_cleaned_csv.copy()\n",
    "ausland_tages.head()"
   ]
  },
  {
   "cell_type": "code",
   "execution_count": 92,
   "metadata": {},
   "outputs": [],
   "source": [
    "ausland_tages.set_index('Datum', inplace=True)\n"
   ]
  },
  {
   "cell_type": "code",
   "execution_count": 119,
   "metadata": {},
   "outputs": [
    {
     "data": {
      "application/vnd.jupyter.widget-view+json": {
       "model_id": "4605bf00c38e4b1ea2faf7b674a6e0f0",
       "version_major": 2,
       "version_minor": 0
      },
      "text/plain": [
       "interactive(children=(SelectionSlider(continuous_update=False, description='Resampling:', options=('D', 'W', '…"
      ]
     },
     "execution_count": 119,
     "metadata": {},
     "output_type": "execute_result"
    }
   ],
   "source": [
    "def resample_and_plot(resampling_freq):\n",
    "    resampled_df = ausland_tages.resample(resampling_freq).mean()\n",
    "    plt.rcParams['figure.figsize'] = [15, 6] #plt.figure(figsize=(15, 10))\n",
    "    resampled_df.plot(kind='line')\n",
    "    plt.title(f'Resampled Data - {resampling_freq}')\n",
    "    plt.xlabel('Datum')\n",
    "    plt.ylabel('Mean des Umsatzes')\n",
    "    plt.grid(True)\n",
    "    plt.show()\n",
    "\n",
    "# Slider zur Auswahl des Resampling-Zeitraums erstellen\n",
    "resampling_slider = widgets.SelectionSlider(\n",
    "    options=['D', 'W', 'M'],   # , 'Q', 'Y'\n",
    "    value='D',\n",
    "    description='Resampling:',\n",
    "    continuous_update=False\n",
    ")\n",
    "\n",
    "# Interaktive Ausgabe anzeigen\n",
    "widgets.interactive(resample_and_plot, resampling_freq=resampling_slider)"
   ]
  },
  {
   "cell_type": "code",
   "execution_count": null,
   "metadata": {},
   "outputs": [],
   "source": []
  },
  {
   "cell_type": "code",
   "execution_count": null,
   "metadata": {},
   "outputs": [],
   "source": []
  },
  {
   "cell_type": "code",
   "execution_count": null,
   "metadata": {},
   "outputs": [],
   "source": [
    "fig, ax1 = plt.subplots(figsize=(15,10))\n",
    "sns.lineplot(x=ausland_cleaned_csv.index, y=(ausland_cleaned_csv['Umsatz_A']))\n",
    "sns.lineplot(x=ausland_cleaned_csv.index, y=(ausland_cleaned_csv['Umsatz_B_diff']))\n",
    "sns.lineplot(x=ausland_cleaned_csv.index, y=(ausland_cleaned_csv['Umsatz_C_diff']))\n",
    "# Show the plot\n",
    "plt.show()"
   ]
  }
 ],
 "metadata": {
  "kernelspec": {
   "display_name": "DataCraft",
   "language": "python",
   "name": "python3"
  },
  "language_info": {
   "codemirror_mode": {
    "name": "ipython",
    "version": 3
   },
   "file_extension": ".py",
   "mimetype": "text/x-python",
   "name": "python",
   "nbconvert_exporter": "python",
   "pygments_lexer": "ipython3",
   "version": "3.11.4"
  },
  "orig_nbformat": 4
 },
 "nbformat": 4,
 "nbformat_minor": 2
}
