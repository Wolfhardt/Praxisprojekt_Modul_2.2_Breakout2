{
 "cells": [
  {
   "cell_type": "code",
   "execution_count": 2,
   "metadata": {},
   "outputs": [],
   "source": [
    "import pandas as pd\n",
    "import numpy as np\n",
    "from datetime import datetime\n",
    "import seaborn as sns\n",
    "import matplotlib.pyplot as plt\n",
    "import ipywidgets as widgets\n",
    "from IPython.display import display\n",
    "from matplotlib.pyplot import figure\n",
    "import plotly.express as px\n",
    "from plotly.subplots import make_subplots\n",
    "import plotly.graph_objects as go"
   ]
  },
  {
   "cell_type": "code",
   "execution_count": null,
   "metadata": {},
   "outputs": [],
   "source": []
  },
  {
   "cell_type": "code",
   "execution_count": 3,
   "metadata": {},
   "outputs": [
    {
     "data": {
      "text/html": [
       "<div>\n",
       "<style scoped>\n",
       "    .dataframe tbody tr th:only-of-type {\n",
       "        vertical-align: middle;\n",
       "    }\n",
       "\n",
       "    .dataframe tbody tr th {\n",
       "        vertical-align: top;\n",
       "    }\n",
       "\n",
       "    .dataframe thead th {\n",
       "        text-align: right;\n",
       "    }\n",
       "</style>\n",
       "<table border=\"1\" class=\"dataframe\">\n",
       "  <thead>\n",
       "    <tr style=\"text-align: right;\">\n",
       "      <th></th>\n",
       "      <th>Datum</th>\n",
       "      <th>Umsatz_A</th>\n",
       "      <th>Umsatz_B_diff</th>\n",
       "      <th>Umsatz_C_diff</th>\n",
       "    </tr>\n",
       "  </thead>\n",
       "  <tbody>\n",
       "    <tr>\n",
       "      <th>0</th>\n",
       "      <td>2021-01-01</td>\n",
       "      <td>17.132115</td>\n",
       "      <td>189.467425</td>\n",
       "      <td>18392.056339</td>\n",
       "    </tr>\n",
       "    <tr>\n",
       "      <th>1</th>\n",
       "      <td>2021-01-02</td>\n",
       "      <td>57.353725</td>\n",
       "      <td>97.000000</td>\n",
       "      <td>150.353614</td>\n",
       "    </tr>\n",
       "    <tr>\n",
       "      <th>2</th>\n",
       "      <td>2021-01-03</td>\n",
       "      <td>114.746857</td>\n",
       "      <td>60.000000</td>\n",
       "      <td>589.032382</td>\n",
       "    </tr>\n",
       "    <tr>\n",
       "      <th>3</th>\n",
       "      <td>2021-01-04</td>\n",
       "      <td>113.251181</td>\n",
       "      <td>95.000000</td>\n",
       "      <td>272.403917</td>\n",
       "    </tr>\n",
       "    <tr>\n",
       "      <th>4</th>\n",
       "      <td>2021-01-05</td>\n",
       "      <td>4.186462</td>\n",
       "      <td>4.000000</td>\n",
       "      <td>-30.435265</td>\n",
       "    </tr>\n",
       "  </tbody>\n",
       "</table>\n",
       "</div>"
      ],
      "text/plain": [
       "        Datum    Umsatz_A  Umsatz_B_diff  Umsatz_C_diff\n",
       "0  2021-01-01   17.132115     189.467425   18392.056339\n",
       "1  2021-01-02   57.353725      97.000000     150.353614\n",
       "2  2021-01-03  114.746857      60.000000     589.032382\n",
       "3  2021-01-04  113.251181      95.000000     272.403917\n",
       "4  2021-01-05    4.186462       4.000000     -30.435265"
      ]
     },
     "execution_count": 3,
     "metadata": {},
     "output_type": "execute_result"
    }
   ],
   "source": [
    "ausland_cleaned_csv = pd.read_csv(\"cleaned_data_ausland.csv\",  delimiter=\",\")\n",
    "ausland_cleaned_csv.head()"
   ]
  },
  {
   "cell_type": "code",
   "execution_count": 4,
   "metadata": {},
   "outputs": [
    {
     "name": "stderr",
     "output_type": "stream",
     "text": [
      "C:\\Users\\User\\AppData\\Local\\Temp\\ipykernel_288\\1981627072.py:1: SettingWithCopyWarning: \n",
      "A value is trying to be set on a copy of a slice from a DataFrame\n",
      "\n",
      "See the caveats in the documentation: https://pandas.pydata.org/pandas-docs/stable/user_guide/indexing.html#returning-a-view-versus-a-copy\n",
      "  ausland_cleaned_csv['Umsatz_C_diff'][0] = ausland_cleaned_csv['Umsatz_C_diff'].median()\n"
     ]
    },
    {
     "data": {
      "text/html": [
       "<div>\n",
       "<style scoped>\n",
       "    .dataframe tbody tr th:only-of-type {\n",
       "        vertical-align: middle;\n",
       "    }\n",
       "\n",
       "    .dataframe tbody tr th {\n",
       "        vertical-align: top;\n",
       "    }\n",
       "\n",
       "    .dataframe thead th {\n",
       "        text-align: right;\n",
       "    }\n",
       "</style>\n",
       "<table border=\"1\" class=\"dataframe\">\n",
       "  <thead>\n",
       "    <tr style=\"text-align: right;\">\n",
       "      <th></th>\n",
       "      <th>Datum</th>\n",
       "      <th>Umsatz_A</th>\n",
       "      <th>Umsatz_B_diff</th>\n",
       "      <th>Umsatz_C_diff</th>\n",
       "    </tr>\n",
       "  </thead>\n",
       "  <tbody>\n",
       "    <tr>\n",
       "      <th>0</th>\n",
       "      <td>2021-01-01</td>\n",
       "      <td>17.132115</td>\n",
       "      <td>189.467425</td>\n",
       "      <td>459.380813</td>\n",
       "    </tr>\n",
       "    <tr>\n",
       "      <th>1</th>\n",
       "      <td>2021-01-02</td>\n",
       "      <td>57.353725</td>\n",
       "      <td>97.000000</td>\n",
       "      <td>150.353614</td>\n",
       "    </tr>\n",
       "    <tr>\n",
       "      <th>2</th>\n",
       "      <td>2021-01-03</td>\n",
       "      <td>114.746857</td>\n",
       "      <td>60.000000</td>\n",
       "      <td>589.032382</td>\n",
       "    </tr>\n",
       "    <tr>\n",
       "      <th>3</th>\n",
       "      <td>2021-01-04</td>\n",
       "      <td>113.251181</td>\n",
       "      <td>95.000000</td>\n",
       "      <td>272.403917</td>\n",
       "    </tr>\n",
       "    <tr>\n",
       "      <th>4</th>\n",
       "      <td>2021-01-05</td>\n",
       "      <td>4.186462</td>\n",
       "      <td>4.000000</td>\n",
       "      <td>-30.435265</td>\n",
       "    </tr>\n",
       "  </tbody>\n",
       "</table>\n",
       "</div>"
      ],
      "text/plain": [
       "        Datum    Umsatz_A  Umsatz_B_diff  Umsatz_C_diff\n",
       "0  2021-01-01   17.132115     189.467425     459.380813\n",
       "1  2021-01-02   57.353725      97.000000     150.353614\n",
       "2  2021-01-03  114.746857      60.000000     589.032382\n",
       "3  2021-01-04  113.251181      95.000000     272.403917\n",
       "4  2021-01-05    4.186462       4.000000     -30.435265"
      ]
     },
     "execution_count": 4,
     "metadata": {},
     "output_type": "execute_result"
    }
   ],
   "source": [
    "ausland_cleaned_csv['Umsatz_C_diff'][0] = ausland_cleaned_csv['Umsatz_C_diff'].median()\n",
    "ausland_cleaned_csv.head()"
   ]
  },
  {
   "cell_type": "code",
   "execution_count": 19,
   "metadata": {},
   "outputs": [
    {
     "data": {
      "text/html": [
       "<div>\n",
       "<style scoped>\n",
       "    .dataframe tbody tr th:only-of-type {\n",
       "        vertical-align: middle;\n",
       "    }\n",
       "\n",
       "    .dataframe tbody tr th {\n",
       "        vertical-align: top;\n",
       "    }\n",
       "\n",
       "    .dataframe thead th {\n",
       "        text-align: right;\n",
       "    }\n",
       "</style>\n",
       "<table border=\"1\" class=\"dataframe\">\n",
       "  <thead>\n",
       "    <tr style=\"text-align: right;\">\n",
       "      <th></th>\n",
       "      <th>Datum</th>\n",
       "      <th>Umsatz_A</th>\n",
       "      <th>Umsatz_B_diff</th>\n",
       "      <th>Umsatz_C_diff</th>\n",
       "    </tr>\n",
       "  </thead>\n",
       "  <tbody>\n",
       "    <tr>\n",
       "      <th>0</th>\n",
       "      <td>2021-01-01</td>\n",
       "      <td>17.132115</td>\n",
       "      <td>189.467425</td>\n",
       "      <td>459.380813</td>\n",
       "    </tr>\n",
       "    <tr>\n",
       "      <th>1</th>\n",
       "      <td>2021-01-02</td>\n",
       "      <td>57.353725</td>\n",
       "      <td>97.000000</td>\n",
       "      <td>150.353614</td>\n",
       "    </tr>\n",
       "    <tr>\n",
       "      <th>2</th>\n",
       "      <td>2021-01-03</td>\n",
       "      <td>114.746857</td>\n",
       "      <td>60.000000</td>\n",
       "      <td>589.032382</td>\n",
       "    </tr>\n",
       "    <tr>\n",
       "      <th>3</th>\n",
       "      <td>2021-01-04</td>\n",
       "      <td>113.251181</td>\n",
       "      <td>95.000000</td>\n",
       "      <td>272.403917</td>\n",
       "    </tr>\n",
       "    <tr>\n",
       "      <th>4</th>\n",
       "      <td>2021-01-05</td>\n",
       "      <td>4.186462</td>\n",
       "      <td>4.000000</td>\n",
       "      <td>-30.435265</td>\n",
       "    </tr>\n",
       "  </tbody>\n",
       "</table>\n",
       "</div>"
      ],
      "text/plain": [
       "        Datum    Umsatz_A  Umsatz_B_diff  Umsatz_C_diff\n",
       "0  2021-01-01   17.132115     189.467425     459.380813\n",
       "1  2021-01-02   57.353725      97.000000     150.353614\n",
       "2  2021-01-03  114.746857      60.000000     589.032382\n",
       "3  2021-01-04  113.251181      95.000000     272.403917\n",
       "4  2021-01-05    4.186462       4.000000     -30.435265"
      ]
     },
     "execution_count": 19,
     "metadata": {},
     "output_type": "execute_result"
    }
   ],
   "source": [
    "ausland_tages = ausland_cleaned_csv.copy()\n",
    "ausland_tages.head()"
   ]
  },
  {
   "cell_type": "code",
   "execution_count": 20,
   "metadata": {},
   "outputs": [
    {
     "data": {
      "text/html": [
       "<div>\n",
       "<style scoped>\n",
       "    .dataframe tbody tr th:only-of-type {\n",
       "        vertical-align: middle;\n",
       "    }\n",
       "\n",
       "    .dataframe tbody tr th {\n",
       "        vertical-align: top;\n",
       "    }\n",
       "\n",
       "    .dataframe thead th {\n",
       "        text-align: right;\n",
       "    }\n",
       "</style>\n",
       "<table border=\"1\" class=\"dataframe\">\n",
       "  <thead>\n",
       "    <tr style=\"text-align: right;\">\n",
       "      <th></th>\n",
       "      <th>Datum</th>\n",
       "      <th>Umsatz_A</th>\n",
       "      <th>Umsatz_B_diff</th>\n",
       "      <th>Umsatz_C_diff</th>\n",
       "    </tr>\n",
       "  </thead>\n",
       "  <tbody>\n",
       "    <tr>\n",
       "      <th>0</th>\n",
       "      <td>2021-01-01</td>\n",
       "      <td>17.132115</td>\n",
       "      <td>189.467425</td>\n",
       "      <td>459.380813</td>\n",
       "    </tr>\n",
       "    <tr>\n",
       "      <th>1</th>\n",
       "      <td>2021-01-02</td>\n",
       "      <td>57.353725</td>\n",
       "      <td>97.000000</td>\n",
       "      <td>150.353614</td>\n",
       "    </tr>\n",
       "    <tr>\n",
       "      <th>2</th>\n",
       "      <td>2021-01-03</td>\n",
       "      <td>114.746857</td>\n",
       "      <td>60.000000</td>\n",
       "      <td>589.032382</td>\n",
       "    </tr>\n",
       "    <tr>\n",
       "      <th>3</th>\n",
       "      <td>2021-01-04</td>\n",
       "      <td>113.251181</td>\n",
       "      <td>95.000000</td>\n",
       "      <td>272.403917</td>\n",
       "    </tr>\n",
       "    <tr>\n",
       "      <th>4</th>\n",
       "      <td>2021-01-05</td>\n",
       "      <td>4.186462</td>\n",
       "      <td>4.000000</td>\n",
       "      <td>-30.435265</td>\n",
       "    </tr>\n",
       "  </tbody>\n",
       "</table>\n",
       "</div>"
      ],
      "text/plain": [
       "       Datum    Umsatz_A  Umsatz_B_diff  Umsatz_C_diff\n",
       "0 2021-01-01   17.132115     189.467425     459.380813\n",
       "1 2021-01-02   57.353725      97.000000     150.353614\n",
       "2 2021-01-03  114.746857      60.000000     589.032382\n",
       "3 2021-01-04  113.251181      95.000000     272.403917\n",
       "4 2021-01-05    4.186462       4.000000     -30.435265"
      ]
     },
     "execution_count": 20,
     "metadata": {},
     "output_type": "execute_result"
    }
   ],
   "source": [
    "ausland_tages['Datum'] = pd.to_datetime(ausland_tages['Datum'], format='%Y-%m-%d')\n",
    "ausland_tages.head()"
   ]
  },
  {
   "cell_type": "code",
   "execution_count": 21,
   "metadata": {},
   "outputs": [
    {
     "data": {
      "text/plain": [
       "dtype('<M8[ns]')"
      ]
     },
     "execution_count": 21,
     "metadata": {},
     "output_type": "execute_result"
    }
   ],
   "source": [
    "ausland_tages['Datum'].dtype"
   ]
  },
  {
   "cell_type": "code",
   "execution_count": 22,
   "metadata": {},
   "outputs": [],
   "source": [
    "ausland_tages.set_index('Datum', inplace=True)\n"
   ]
  },
  {
   "cell_type": "code",
   "execution_count": 101,
   "metadata": {},
   "outputs": [
    {
     "data": {
      "application/vnd.jupyter.widget-view+json": {
       "model_id": "8348f4dc481640fc9cb993d92a6e1e04",
       "version_major": 2,
       "version_minor": 0
      },
      "text/plain": [
       "interactive(children=(SelectionSlider(continuous_update=False, description='Resampling:', options=('D', 'W', '…"
      ]
     },
     "execution_count": 101,
     "metadata": {},
     "output_type": "execute_result"
    }
   ],
   "source": [
    "def resample_and_plot(resampling_freq):\n",
    "    resampled_df = ausland_tages.resample(resampling_freq).mean()\n",
    "    plt.rcParams['figure.figsize'] = [15, 6] #plt.figure(figsize=(15, 10))\n",
    "    resampled_df.plot(kind='line')\n",
    "\n",
    "    z = np.polyfit(resampled_df.index.astype('int64'), resampled_df['Umsatz_C_diff'], 1)\n",
    "    p = np.poly1d(z)\n",
    "    plt.plot(resampled_df.index.astype('int64'), p(resampled_df.index.astype('int64')), 'r--')  # , label='Trendlinie'\n",
    "\n",
    "    plt.title(f'Resampled Data - {resampling_freq}')\n",
    "    plt.xlabel('Datum')\n",
    "    plt.ylabel('Mean des Umsatzes')\n",
    "    plt.grid(True)\n",
    "    plt.show()\n",
    "\n",
    "# Slider zur Auswahl des Resampling-Zeitraums erstellen\n",
    "resampling_slider = widgets.SelectionSlider(\n",
    "    options=['D', 'W', 'M', 'Q', 'Y'],   # , 'Q', 'Y'\n",
    "    value='D',\n",
    "    description='Resampling:',\n",
    "    continuous_update=False\n",
    ")\n",
    "\n",
    "# Interaktive Ausgabe anzeigen\n",
    "widgets.interactive(resample_and_plot, resampling_freq=resampling_slider)"
   ]
  },
  {
   "cell_type": "code",
   "execution_count": 83,
   "metadata": {},
   "outputs": [
    {
     "data": {
      "text/html": [
       "<div>\n",
       "<style scoped>\n",
       "    .dataframe tbody tr th:only-of-type {\n",
       "        vertical-align: middle;\n",
       "    }\n",
       "\n",
       "    .dataframe tbody tr th {\n",
       "        vertical-align: top;\n",
       "    }\n",
       "\n",
       "    .dataframe thead th {\n",
       "        text-align: right;\n",
       "    }\n",
       "</style>\n",
       "<table border=\"1\" class=\"dataframe\">\n",
       "  <thead>\n",
       "    <tr style=\"text-align: right;\">\n",
       "      <th></th>\n",
       "      <th>Datum</th>\n",
       "      <th>Umsatz_A</th>\n",
       "      <th>Umsatz_B_diff</th>\n",
       "      <th>Umsatz_C_diff</th>\n",
       "    </tr>\n",
       "  </thead>\n",
       "  <tbody>\n",
       "    <tr>\n",
       "      <th>0</th>\n",
       "      <td>2021-01-01</td>\n",
       "      <td>17.132115</td>\n",
       "      <td>189.467425</td>\n",
       "      <td>459.380813</td>\n",
       "    </tr>\n",
       "    <tr>\n",
       "      <th>1</th>\n",
       "      <td>2021-01-02</td>\n",
       "      <td>57.353725</td>\n",
       "      <td>97.000000</td>\n",
       "      <td>150.353614</td>\n",
       "    </tr>\n",
       "    <tr>\n",
       "      <th>2</th>\n",
       "      <td>2021-01-03</td>\n",
       "      <td>114.746857</td>\n",
       "      <td>60.000000</td>\n",
       "      <td>589.032382</td>\n",
       "    </tr>\n",
       "    <tr>\n",
       "      <th>3</th>\n",
       "      <td>2021-01-04</td>\n",
       "      <td>113.251181</td>\n",
       "      <td>95.000000</td>\n",
       "      <td>272.403917</td>\n",
       "    </tr>\n",
       "    <tr>\n",
       "      <th>4</th>\n",
       "      <td>2021-01-05</td>\n",
       "      <td>4.186462</td>\n",
       "      <td>4.000000</td>\n",
       "      <td>-30.435265</td>\n",
       "    </tr>\n",
       "  </tbody>\n",
       "</table>\n",
       "</div>"
      ],
      "text/plain": [
       "        Datum    Umsatz_A  Umsatz_B_diff  Umsatz_C_diff\n",
       "0  2021-01-01   17.132115     189.467425     459.380813\n",
       "1  2021-01-02   57.353725      97.000000     150.353614\n",
       "2  2021-01-03  114.746857      60.000000     589.032382\n",
       "3  2021-01-04  113.251181      95.000000     272.403917\n",
       "4  2021-01-05    4.186462       4.000000     -30.435265"
      ]
     },
     "execution_count": 83,
     "metadata": {},
     "output_type": "execute_result"
    }
   ],
   "source": [
    "ausland_days = ausland_cleaned_csv.copy()\n",
    "ausland_days.head()"
   ]
  },
  {
   "cell_type": "code",
   "execution_count": 84,
   "metadata": {},
   "outputs": [
    {
     "data": {
      "text/html": [
       "<div>\n",
       "<style scoped>\n",
       "    .dataframe tbody tr th:only-of-type {\n",
       "        vertical-align: middle;\n",
       "    }\n",
       "\n",
       "    .dataframe tbody tr th {\n",
       "        vertical-align: top;\n",
       "    }\n",
       "\n",
       "    .dataframe thead th {\n",
       "        text-align: right;\n",
       "    }\n",
       "</style>\n",
       "<table border=\"1\" class=\"dataframe\">\n",
       "  <thead>\n",
       "    <tr style=\"text-align: right;\">\n",
       "      <th></th>\n",
       "      <th>Datum</th>\n",
       "      <th>Umsatz_A</th>\n",
       "      <th>Umsatz_B_diff</th>\n",
       "      <th>Umsatz_C_diff</th>\n",
       "      <th>Date_int</th>\n",
       "    </tr>\n",
       "  </thead>\n",
       "  <tbody>\n",
       "    <tr>\n",
       "      <th>0</th>\n",
       "      <td>2021-01-01</td>\n",
       "      <td>17.132115</td>\n",
       "      <td>189.467425</td>\n",
       "      <td>459.380813</td>\n",
       "      <td>20210101</td>\n",
       "    </tr>\n",
       "    <tr>\n",
       "      <th>1</th>\n",
       "      <td>2021-01-02</td>\n",
       "      <td>57.353725</td>\n",
       "      <td>97.000000</td>\n",
       "      <td>150.353614</td>\n",
       "      <td>20210102</td>\n",
       "    </tr>\n",
       "    <tr>\n",
       "      <th>2</th>\n",
       "      <td>2021-01-03</td>\n",
       "      <td>114.746857</td>\n",
       "      <td>60.000000</td>\n",
       "      <td>589.032382</td>\n",
       "      <td>20210103</td>\n",
       "    </tr>\n",
       "    <tr>\n",
       "      <th>3</th>\n",
       "      <td>2021-01-04</td>\n",
       "      <td>113.251181</td>\n",
       "      <td>95.000000</td>\n",
       "      <td>272.403917</td>\n",
       "      <td>20210104</td>\n",
       "    </tr>\n",
       "    <tr>\n",
       "      <th>4</th>\n",
       "      <td>2021-01-05</td>\n",
       "      <td>4.186462</td>\n",
       "      <td>4.000000</td>\n",
       "      <td>-30.435265</td>\n",
       "      <td>20210105</td>\n",
       "    </tr>\n",
       "  </tbody>\n",
       "</table>\n",
       "</div>"
      ],
      "text/plain": [
       "        Datum    Umsatz_A  Umsatz_B_diff  Umsatz_C_diff  Date_int\n",
       "0  2021-01-01   17.132115     189.467425     459.380813  20210101\n",
       "1  2021-01-02   57.353725      97.000000     150.353614  20210102\n",
       "2  2021-01-03  114.746857      60.000000     589.032382  20210103\n",
       "3  2021-01-04  113.251181      95.000000     272.403917  20210104\n",
       "4  2021-01-05    4.186462       4.000000     -30.435265  20210105"
      ]
     },
     "execution_count": 84,
     "metadata": {},
     "output_type": "execute_result"
    }
   ],
   "source": [
    "ausland_days['Date_int'] = ausland_days['Datum'].str.split('-').str.join('').astype('int64')\n",
    "ausland_days.head()"
   ]
  },
  {
   "cell_type": "code",
   "execution_count": 86,
   "metadata": {},
   "outputs": [
    {
     "data": {
      "text/html": [
       "<div>\n",
       "<style scoped>\n",
       "    .dataframe tbody tr th:only-of-type {\n",
       "        vertical-align: middle;\n",
       "    }\n",
       "\n",
       "    .dataframe tbody tr th {\n",
       "        vertical-align: top;\n",
       "    }\n",
       "\n",
       "    .dataframe thead th {\n",
       "        text-align: right;\n",
       "    }\n",
       "</style>\n",
       "<table border=\"1\" class=\"dataframe\">\n",
       "  <thead>\n",
       "    <tr style=\"text-align: right;\">\n",
       "      <th></th>\n",
       "      <th>Datum</th>\n",
       "      <th>Umsatz_A</th>\n",
       "      <th>Umsatz_B_diff</th>\n",
       "      <th>Umsatz_C_diff</th>\n",
       "      <th>Date_int</th>\n",
       "    </tr>\n",
       "  </thead>\n",
       "  <tbody>\n",
       "    <tr>\n",
       "      <th>0</th>\n",
       "      <td>2021-01-01</td>\n",
       "      <td>17.132115</td>\n",
       "      <td>189.467425</td>\n",
       "      <td>459.380813</td>\n",
       "      <td>20210101</td>\n",
       "    </tr>\n",
       "    <tr>\n",
       "      <th>1</th>\n",
       "      <td>2021-01-02</td>\n",
       "      <td>57.353725</td>\n",
       "      <td>97.000000</td>\n",
       "      <td>150.353614</td>\n",
       "      <td>20210102</td>\n",
       "    </tr>\n",
       "    <tr>\n",
       "      <th>2</th>\n",
       "      <td>2021-01-03</td>\n",
       "      <td>114.746857</td>\n",
       "      <td>60.000000</td>\n",
       "      <td>589.032382</td>\n",
       "      <td>20210103</td>\n",
       "    </tr>\n",
       "    <tr>\n",
       "      <th>3</th>\n",
       "      <td>2021-01-04</td>\n",
       "      <td>113.251181</td>\n",
       "      <td>95.000000</td>\n",
       "      <td>272.403917</td>\n",
       "      <td>20210104</td>\n",
       "    </tr>\n",
       "    <tr>\n",
       "      <th>4</th>\n",
       "      <td>2021-01-05</td>\n",
       "      <td>4.186462</td>\n",
       "      <td>4.000000</td>\n",
       "      <td>-30.435265</td>\n",
       "      <td>20210105</td>\n",
       "    </tr>\n",
       "  </tbody>\n",
       "</table>\n",
       "</div>"
      ],
      "text/plain": [
       "       Datum    Umsatz_A  Umsatz_B_diff  Umsatz_C_diff  Date_int\n",
       "0 2021-01-01   17.132115     189.467425     459.380813  20210101\n",
       "1 2021-01-02   57.353725      97.000000     150.353614  20210102\n",
       "2 2021-01-03  114.746857      60.000000     589.032382  20210103\n",
       "3 2021-01-04  113.251181      95.000000     272.403917  20210104\n",
       "4 2021-01-05    4.186462       4.000000     -30.435265  20210105"
      ]
     },
     "execution_count": 86,
     "metadata": {},
     "output_type": "execute_result"
    }
   ],
   "source": [
    "ausland_days['Datum'] = pd.to_datetime(ausland_days['Datum'], format='%Y-%m-%d')\n",
    "ausland_days.head()"
   ]
  },
  {
   "cell_type": "code",
   "execution_count": 88,
   "metadata": {},
   "outputs": [
    {
     "data": {
      "text/html": [
       "<div>\n",
       "<style scoped>\n",
       "    .dataframe tbody tr th:only-of-type {\n",
       "        vertical-align: middle;\n",
       "    }\n",
       "\n",
       "    .dataframe tbody tr th {\n",
       "        vertical-align: top;\n",
       "    }\n",
       "\n",
       "    .dataframe thead th {\n",
       "        text-align: right;\n",
       "    }\n",
       "</style>\n",
       "<table border=\"1\" class=\"dataframe\">\n",
       "  <thead>\n",
       "    <tr style=\"text-align: right;\">\n",
       "      <th></th>\n",
       "      <th>Umsatz_A</th>\n",
       "      <th>Umsatz_B_diff</th>\n",
       "      <th>Umsatz_C_diff</th>\n",
       "      <th>Date_int</th>\n",
       "    </tr>\n",
       "    <tr>\n",
       "      <th>Datum</th>\n",
       "      <th></th>\n",
       "      <th></th>\n",
       "      <th></th>\n",
       "      <th></th>\n",
       "    </tr>\n",
       "  </thead>\n",
       "  <tbody>\n",
       "    <tr>\n",
       "      <th>2021-01-01</th>\n",
       "      <td>17.132115</td>\n",
       "      <td>189.467425</td>\n",
       "      <td>459.380813</td>\n",
       "      <td>20210101</td>\n",
       "    </tr>\n",
       "    <tr>\n",
       "      <th>2021-01-02</th>\n",
       "      <td>57.353725</td>\n",
       "      <td>97.000000</td>\n",
       "      <td>150.353614</td>\n",
       "      <td>20210102</td>\n",
       "    </tr>\n",
       "    <tr>\n",
       "      <th>2021-01-03</th>\n",
       "      <td>114.746857</td>\n",
       "      <td>60.000000</td>\n",
       "      <td>589.032382</td>\n",
       "      <td>20210103</td>\n",
       "    </tr>\n",
       "    <tr>\n",
       "      <th>2021-01-04</th>\n",
       "      <td>113.251181</td>\n",
       "      <td>95.000000</td>\n",
       "      <td>272.403917</td>\n",
       "      <td>20210104</td>\n",
       "    </tr>\n",
       "    <tr>\n",
       "      <th>2021-01-05</th>\n",
       "      <td>4.186462</td>\n",
       "      <td>4.000000</td>\n",
       "      <td>-30.435265</td>\n",
       "      <td>20210105</td>\n",
       "    </tr>\n",
       "  </tbody>\n",
       "</table>\n",
       "</div>"
      ],
      "text/plain": [
       "              Umsatz_A  Umsatz_B_diff  Umsatz_C_diff  Date_int\n",
       "Datum                                                         \n",
       "2021-01-01   17.132115     189.467425     459.380813  20210101\n",
       "2021-01-02   57.353725      97.000000     150.353614  20210102\n",
       "2021-01-03  114.746857      60.000000     589.032382  20210103\n",
       "2021-01-04  113.251181      95.000000     272.403917  20210104\n",
       "2021-01-05    4.186462       4.000000     -30.435265  20210105"
      ]
     },
     "execution_count": 88,
     "metadata": {},
     "output_type": "execute_result"
    }
   ],
   "source": [
    "ausland_days.set_index('Datum', inplace=True)\n",
    "ausland_days.head()"
   ]
  },
  {
   "cell_type": "code",
   "execution_count": 99,
   "metadata": {},
   "outputs": [
    {
     "data": {
      "image/png": "[encoded data removed]",
      "text/plain": [
       "<Figure size 1500x600 with 1 Axes>"
      ]
     },
     "metadata": {},
     "output_type": "display_data"
    }
   ],
   "source": [
    "resampled_df_monat = ausland_days.resample('M').mean()\n",
    "fig, ax = plt.subplots(figsize=[15, 6])  #  plt.rcParams['figure.figsize'] = [15, 6] #plt.figure(figsize=(15, 10))\n",
    "resampled_df_monat.plot(kind='line', ax=ax, label=\"Umsatz_C\") # resampled_df_monat.plot(kind='line')\n",
    "\n",
    "z = np.polyfit(resampled_df_monat['Date_int'], resampled_df_monat['Umsatz_C_diff'], 1)\n",
    "p = np.poly1d(z)\n",
    "# x_vals = np.linspace(resampled_df_monat.index.astype('int64').min(), resampled_df_monat.index.astype('int64').max(), 100)\n",
    "# plt.plot(x_vals, p(x_vals), 'r--', label='Trendlinie')  # , label='Trendlinie'\n",
    "ax.plot(resampled_df_monat['Date_int'], p(resampled_df_monat[\"Umsatz_C_diff\"]), 'r--', label=\"Trendlinie\")\n",
    "\n",
    "ax.set_title('Resampled Data - Monat')\n",
    "ax.set_xlabel('Datum')\n",
    "ax.set_ylabel('Mean des Umsatzes')\n",
    "# plt.title('Resampled Data - Monat')\n",
    "# plt.xlabel('Datum')\n",
    "# plt.ylabel('Mean des Umsatzes')\n",
    "# plt.grid(True)\n",
    "plt.show()"
   ]
  },
  {
   "cell_type": "code",
   "execution_count": null,
   "metadata": {},
   "outputs": [],
   "source": [
    "fig, ax = plt.subplots(figsize=[15, 6])\n",
    "\n",
    "plot = resampled_df_monat.plot(kind='line', ax=ax, label=\"Umsatz\")\n",
    "\n",
    "z = np.polyfit(resampled_df_monat[\"Date_int\"], resampled_df_monat['Umsatz_C_diff'], 1)\n",
    "p = np.poly1d(z)\n",
    "\n",
    "ax.plot(resampled_df_monat.index, p(resampled_df_monat[\"Date_int\"]), 'r--', label=\"Trendlinie\")  # , label='Trendlinie'\n",
    "\n",
    "\n",
    "ax.set_title('Resampled Data - Monat')\n",
    "ax.set_xlabel('Datum')\n",
    "ax.set_ylabel('Mean des Umsatzes')\n",
    "\n",
    "# plt.ylim(0, 10)\n",
    "plt.show()"
   ]
  },
  {
   "cell_type": "code",
   "execution_count": 25,
   "metadata": {},
   "outputs": [
    {
     "data": {
      "text/html": [
       "<div>\n",
       "<style scoped>\n",
       "    .dataframe tbody tr th:only-of-type {\n",
       "        vertical-align: middle;\n",
       "    }\n",
       "\n",
       "    .dataframe tbody tr th {\n",
       "        vertical-align: top;\n",
       "    }\n",
       "\n",
       "    .dataframe thead th {\n",
       "        text-align: right;\n",
       "    }\n",
       "</style>\n",
       "<table border=\"1\" class=\"dataframe\">\n",
       "  <thead>\n",
       "    <tr style=\"text-align: right;\">\n",
       "      <th></th>\n",
       "      <th>Datum</th>\n",
       "      <th>Umsatz_A</th>\n",
       "      <th>Umsatz_B_diff</th>\n",
       "      <th>Umsatz_C_diff</th>\n",
       "    </tr>\n",
       "  </thead>\n",
       "  <tbody>\n",
       "    <tr>\n",
       "      <th>0</th>\n",
       "      <td>2021-01-01</td>\n",
       "      <td>17.132115</td>\n",
       "      <td>189.467425</td>\n",
       "      <td>459.380813</td>\n",
       "    </tr>\n",
       "    <tr>\n",
       "      <th>1</th>\n",
       "      <td>2021-01-02</td>\n",
       "      <td>57.353725</td>\n",
       "      <td>97.000000</td>\n",
       "      <td>150.353614</td>\n",
       "    </tr>\n",
       "    <tr>\n",
       "      <th>2</th>\n",
       "      <td>2021-01-03</td>\n",
       "      <td>114.746857</td>\n",
       "      <td>60.000000</td>\n",
       "      <td>589.032382</td>\n",
       "    </tr>\n",
       "    <tr>\n",
       "      <th>3</th>\n",
       "      <td>2021-01-04</td>\n",
       "      <td>113.251181</td>\n",
       "      <td>95.000000</td>\n",
       "      <td>272.403917</td>\n",
       "    </tr>\n",
       "    <tr>\n",
       "      <th>4</th>\n",
       "      <td>2021-01-05</td>\n",
       "      <td>4.186462</td>\n",
       "      <td>4.000000</td>\n",
       "      <td>-30.435265</td>\n",
       "    </tr>\n",
       "  </tbody>\n",
       "</table>\n",
       "</div>"
      ],
      "text/plain": [
       "        Datum    Umsatz_A  Umsatz_B_diff  Umsatz_C_diff\n",
       "0  2021-01-01   17.132115     189.467425     459.380813\n",
       "1  2021-01-02   57.353725      97.000000     150.353614\n",
       "2  2021-01-03  114.746857      60.000000     589.032382\n",
       "3  2021-01-04  113.251181      95.000000     272.403917\n",
       "4  2021-01-05    4.186462       4.000000     -30.435265"
      ]
     },
     "execution_count": 25,
     "metadata": {},
     "output_type": "execute_result"
    }
   ],
   "source": [
    "ausland_wochentage = ausland_cleaned_csv.copy()\n",
    "ausland_wochentage.head()"
   ]
  },
  {
   "cell_type": "code",
   "execution_count": 27,
   "metadata": {},
   "outputs": [
    {
     "data": {
      "text/html": [
       "<div>\n",
       "<style scoped>\n",
       "    .dataframe tbody tr th:only-of-type {\n",
       "        vertical-align: middle;\n",
       "    }\n",
       "\n",
       "    .dataframe tbody tr th {\n",
       "        vertical-align: top;\n",
       "    }\n",
       "\n",
       "    .dataframe thead th {\n",
       "        text-align: right;\n",
       "    }\n",
       "</style>\n",
       "<table border=\"1\" class=\"dataframe\">\n",
       "  <thead>\n",
       "    <tr style=\"text-align: right;\">\n",
       "      <th></th>\n",
       "      <th>Datum</th>\n",
       "      <th>Umsatz_A</th>\n",
       "      <th>Umsatz_B_diff</th>\n",
       "      <th>Umsatz_C_diff</th>\n",
       "      <th>Wochentag</th>\n",
       "    </tr>\n",
       "  </thead>\n",
       "  <tbody>\n",
       "    <tr>\n",
       "      <th>0</th>\n",
       "      <td>2021-01-01</td>\n",
       "      <td>17.132115</td>\n",
       "      <td>189.467425</td>\n",
       "      <td>459.380813</td>\n",
       "      <td>Friday</td>\n",
       "    </tr>\n",
       "    <tr>\n",
       "      <th>1</th>\n",
       "      <td>2021-01-02</td>\n",
       "      <td>57.353725</td>\n",
       "      <td>97.000000</td>\n",
       "      <td>150.353614</td>\n",
       "      <td>Saturday</td>\n",
       "    </tr>\n",
       "    <tr>\n",
       "      <th>2</th>\n",
       "      <td>2021-01-03</td>\n",
       "      <td>114.746857</td>\n",
       "      <td>60.000000</td>\n",
       "      <td>589.032382</td>\n",
       "      <td>Sunday</td>\n",
       "    </tr>\n",
       "    <tr>\n",
       "      <th>3</th>\n",
       "      <td>2021-01-04</td>\n",
       "      <td>113.251181</td>\n",
       "      <td>95.000000</td>\n",
       "      <td>272.403917</td>\n",
       "      <td>Monday</td>\n",
       "    </tr>\n",
       "    <tr>\n",
       "      <th>4</th>\n",
       "      <td>2021-01-05</td>\n",
       "      <td>4.186462</td>\n",
       "      <td>4.000000</td>\n",
       "      <td>-30.435265</td>\n",
       "      <td>Tuesday</td>\n",
       "    </tr>\n",
       "  </tbody>\n",
       "</table>\n",
       "</div>"
      ],
      "text/plain": [
       "       Datum    Umsatz_A  Umsatz_B_diff  Umsatz_C_diff Wochentag\n",
       "0 2021-01-01   17.132115     189.467425     459.380813    Friday\n",
       "1 2021-01-02   57.353725      97.000000     150.353614  Saturday\n",
       "2 2021-01-03  114.746857      60.000000     589.032382    Sunday\n",
       "3 2021-01-04  113.251181      95.000000     272.403917    Monday\n",
       "4 2021-01-05    4.186462       4.000000     -30.435265   Tuesday"
      ]
     },
     "execution_count": 27,
     "metadata": {},
     "output_type": "execute_result"
    }
   ],
   "source": [
    "ausland_wochentage['Datum'] = pd.to_datetime(ausland_wochentage['Datum'])\n",
    "\n",
    "ausland_wochentage['Wochentag'] = ausland_wochentage['Datum'].dt.strftime('%A')\n",
    "ausland_wochentage.head()"
   ]
  },
  {
   "cell_type": "code",
   "execution_count": 28,
   "metadata": {},
   "outputs": [
    {
     "name": "stderr",
     "output_type": "stream",
     "text": [
      "C:\\Users\\User\\AppData\\Local\\Temp\\ipykernel_288\\1835854976.py:1: FutureWarning: The default value of numeric_only in DataFrameGroupBy.sum is deprecated. In a future version, numeric_only will default to False. Either specify numeric_only or select only columns which should be valid for the function.\n",
      "  ausland_wochentage.groupby(['Wochentag']).sum () \\\n"
     ]
    },
    {
     "data": {
      "text/plain": [
       "<Axes: title={'center': 'Umsatz am Wochentage'}, ylabel='Umsatz_C_diff'>"
      ]
     },
     "execution_count": 28,
     "metadata": {},
     "output_type": "execute_result"
    },
    {
     "data": {
      "image/png": "[encoded data removed]",
      "text/plain": [
       "<Figure size 1500x600 with 1 Axes>"
      ]
     },
     "metadata": {},
     "output_type": "display_data"
    }
   ],
   "source": [
    "ausland_wochentage.groupby(['Wochentag']).sum () \\\n",
    "                                        .plot(kind='pie', \\\n",
    "                                            y='Umsatz_C_diff', \\\n",
    "                                            autopct='%1.0f%%', \\\n",
    "                                            legend=False, \\\n",
    "                                            title='Umsatz am Wochentage')"
   ]
  },
  {
   "cell_type": "code",
   "execution_count": 29,
   "metadata": {},
   "outputs": [
    {
     "name": "stderr",
     "output_type": "stream",
     "text": [
      "C:\\Users\\User\\AppData\\Local\\Temp\\ipykernel_288\\4016857094.py:1: FutureWarning: The default value of numeric_only in DataFrameGroupBy.sum is deprecated. In a future version, numeric_only will default to False. Either specify numeric_only or select only columns which should be valid for the function.\n",
      "  ausland_wochentage.groupby(['Wochentag']).sum () \\\n"
     ]
    },
    {
     "data": {
      "text/plain": [
       "<Axes: title={'center': 'Umsatz am Wochentage'}, ylabel='Umsatz_B_diff'>"
      ]
     },
     "execution_count": 29,
     "metadata": {},
     "output_type": "execute_result"
    },
    {
     "data": {
      "image/png": "[encoded data removed]",
      "text/plain": [
       "<Figure size 1500x600 with 1 Axes>"
      ]
     },
     "metadata": {},
     "output_type": "display_data"
    }
   ],
   "source": [
    "ausland_wochentage.groupby(['Wochentag']).sum () \\\n",
    "                                        .plot(kind='pie', \\\n",
    "                                            y='Umsatz_B_diff', \\\n",
    "                                            autopct='%1.0f%%', \\\n",
    "                                            legend=False, \\\n",
    "                                            title='Umsatz am Wochentage')"
   ]
  },
  {
   "cell_type": "code",
   "execution_count": 30,
   "metadata": {},
   "outputs": [
    {
     "name": "stderr",
     "output_type": "stream",
     "text": [
      "C:\\Users\\User\\AppData\\Local\\Temp\\ipykernel_288\\1338220891.py:1: FutureWarning: The default value of numeric_only in DataFrameGroupBy.sum is deprecated. In a future version, numeric_only will default to False. Either specify numeric_only or select only columns which should be valid for the function.\n",
      "  ausland_wochentage.groupby(['Wochentag']).sum () \\\n"
     ]
    },
    {
     "data": {
      "text/plain": [
       "<Axes: title={'center': 'Umsatz am Wochentage'}, ylabel='Umsatz_A'>"
      ]
     },
     "execution_count": 30,
     "metadata": {},
     "output_type": "execute_result"
    },
    {
     "data": {
      "image/png": "[encoded data removed]",
      "text/plain": [
       "<Figure size 1500x600 with 1 Axes>"
      ]
     },
     "metadata": {},
     "output_type": "display_data"
    }
   ],
   "source": [
    "ausland_wochentage.groupby(['Wochentag']).sum () \\\n",
    "                                        .plot(kind='pie', \\\n",
    "                                            y='Umsatz_A', \\\n",
    "                                            autopct='%1.0f%%', \\\n",
    "                                            legend=False, \\\n",
    "                                            title='Umsatz am Wochentage')"
   ]
  },
  {
   "cell_type": "code",
   "execution_count": null,
   "metadata": {},
   "outputs": [],
   "source": [
    "def update_pie_chart(selected_category):\n",
    "    filtered_df = ausland_wochentage[ausland_wochentage['Wochentag'] == selected_category]\n",
    "    \n",
    "    fig = px.pie(filtered_df, values='Umsatz_C_diff', names='Wochentage', title=f'Pie Chart for {selected_category}')\n",
    "    return fig"
   ]
  },
  {
   "cell_type": "code",
   "execution_count": null,
   "metadata": {},
   "outputs": [],
   "source": [
    "resampling_slider = widgets.SelectionSlider(\n",
    "    options=['D', 'W', 'M'],   # , 'Q', 'Y'\n",
    "    value='D',\n",
    "    description='Resampling:',\n",
    "    continuous_update=False\n",
    ")\n",
    "\n",
    "# Interaktive Ausgabe anzeigen\n",
    "widgets.interactive(resample_and_plot, resampling_freq=resampling_slider)"
   ]
  },
  {
   "cell_type": "code",
   "execution_count": null,
   "metadata": {},
   "outputs": [],
   "source": [
    "fig, ax1 = plt.subplots(figsize=(15,10))\n",
    "sns.lineplot(x=ausland_cleaned_csv.index, y=(ausland_cleaned_csv['Umsatz_A']))\n",
    "sns.lineplot(x=ausland_cleaned_csv.index, y=(ausland_cleaned_csv['Umsatz_B_diff']))\n",
    "sns.lineplot(x=ausland_cleaned_csv.index, y=(ausland_cleaned_csv['Umsatz_C_diff']))\n",
    "# Show the plot\n",
    "plt.show()"
   ]
  }
 ],
 "metadata": {
  "kernelspec": {
   "display_name": "DataCraft",
   "language": "python",
   "name": "python3"
  },
  "language_info": {
   "codemirror_mode": {
    "name": "ipython",
    "version": 3
   },
   "file_extension": ".py",
   "mimetype": "text/x-python",
   "name": "python",
   "nbconvert_exporter": "python",
   "pygments_lexer": "ipython3",
   "version": "3.11.4"
  },
  "orig_nbformat": 4
 },
 "nbformat": 4,
 "nbformat_minor": 2
}
