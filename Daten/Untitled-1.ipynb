{
 "cells": [
  {
   "cell_type": "code",
   "execution_count": 3,
   "metadata": {},
   "outputs": [],
   "source": [
    "import pandas as pd\n",
    "import ipywidgets as widgets\n",
    "import matplotlib.pyplot as plt\n",
    "import seaborn as sns\n"
   ]
  },
  {
   "cell_type": "code",
   "execution_count": 25,
   "metadata": {},
   "outputs": [],
   "source": [
    "# Laden der deutschen Verkaufsdaten aus Excel\n",
    "inland_data = pd.read_csv(r\"C:\\Users\\User\\Documents\\GitHub\\Praxisprojekt_Modul_2.2_Breakout2\\Daten\\Umsatz_Inland.csv\")\n",
    "\n",
    "# Laden der Verkaufsdaten in Monaten für den Rest Europas aus CSV\n",
    "ausland_data = pd.read_csv(r\"C:\\Users\\User\\Documents\\GitHub\\Praxisprojekt_Modul_2.2_Breakout2\\Daten\\Umsatz_Ausland_Monat.csv\", usecols=[\"Datum\", \"Umsatz_C_Ausland\", \"Umsatz_A_Ausland\", \"Umsatz_B_Ausland\", \"Umsatz_gesamt_Ausland\"])\n",
    "\n",
    "# Laden der Verkaufsdaten in Tagen für den Rest Europas aus CSV\n",
    "ausland_data_tage = pd.read_csv(r\"C:\\Users\\User\\Documents\\GitHub\\Praxisprojekt_Modul_2.2_Breakout2\\Daten\\Umsatz_Ausland_Tage.csv\", usecols=[\"Datum\", \"Umsatz_C_Ausland\", \"Umsatz_A_Ausland\", \"Umsatz_B_Ausland\", \"Umsatz_gesamt_Ausland\"])\n",
    "\n",
    "# Laden der zusammengefügten Verkaufsdaten \n",
    "gesamt_data = pd.read_csv(r\"C:\\Users\\User\\Documents\\GitHub\\Praxisprojekt_Modul_2.2_Breakout2\\Daten\\Umsatz_gesamt.csv\")"
   ]
  },
  {
   "cell_type": "code",
   "execution_count": 28,
   "metadata": {},
   "outputs": [
    {
     "data": {
      "text/html": [
       "<div>\n",
       "<style scoped>\n",
       "    .dataframe tbody tr th:only-of-type {\n",
       "        vertical-align: middle;\n",
       "    }\n",
       "\n",
       "    .dataframe tbody tr th {\n",
       "        vertical-align: top;\n",
       "    }\n",
       "\n",
       "    .dataframe thead th {\n",
       "        text-align: right;\n",
       "    }\n",
       "</style>\n",
       "<table border=\"1\" class=\"dataframe\">\n",
       "  <thead>\n",
       "    <tr style=\"text-align: right;\">\n",
       "      <th></th>\n",
       "      <th>Monat</th>\n",
       "      <th>Umsatz_A_Inland</th>\n",
       "      <th>Umsatz_B_Inland</th>\n",
       "      <th>Umsatz_C_Inland</th>\n",
       "      <th>Umsatz_gesamt_Inland</th>\n",
       "      <th>Umsatz_C_Ausland</th>\n",
       "      <th>Umsatz_A_Ausland</th>\n",
       "      <th>Umsatz_B_Ausland</th>\n",
       "      <th>Umsatz_gesamt_Ausland</th>\n",
       "    </tr>\n",
       "  </thead>\n",
       "  <tbody>\n",
       "    <tr>\n",
       "      <th>0</th>\n",
       "      <td>Jan</td>\n",
       "      <td>15562.55</td>\n",
       "      <td>14774.46</td>\n",
       "      <td>148945.17</td>\n",
       "      <td>179282.18</td>\n",
       "      <td>15316.70</td>\n",
       "      <td>1897.12</td>\n",
       "      <td>1617.47</td>\n",
       "      <td>18831.29</td>\n",
       "    </tr>\n",
       "    <tr>\n",
       "      <th>1</th>\n",
       "      <td>Feb</td>\n",
       "      <td>14055.57</td>\n",
       "      <td>15176.47</td>\n",
       "      <td>128859.95</td>\n",
       "      <td>158091.99</td>\n",
       "      <td>13714.71</td>\n",
       "      <td>1450.64</td>\n",
       "      <td>1349.00</td>\n",
       "      <td>16514.35</td>\n",
       "    </tr>\n",
       "    <tr>\n",
       "      <th>2</th>\n",
       "      <td>Mrz</td>\n",
       "      <td>15633.91</td>\n",
       "      <td>18280.33</td>\n",
       "      <td>141602.71</td>\n",
       "      <td>175516.95</td>\n",
       "      <td>14833.53</td>\n",
       "      <td>1752.35</td>\n",
       "      <td>1369.00</td>\n",
       "      <td>17954.88</td>\n",
       "    </tr>\n",
       "    <tr>\n",
       "      <th>3</th>\n",
       "      <td>Apr</td>\n",
       "      <td>15792.85</td>\n",
       "      <td>19095.32</td>\n",
       "      <td>133780.49</td>\n",
       "      <td>168668.66</td>\n",
       "      <td>14823.54</td>\n",
       "      <td>1423.79</td>\n",
       "      <td>1375.00</td>\n",
       "      <td>17622.33</td>\n",
       "    </tr>\n",
       "    <tr>\n",
       "      <th>4</th>\n",
       "      <td>Mai</td>\n",
       "      <td>16947.49</td>\n",
       "      <td>20206.11</td>\n",
       "      <td>135993.78</td>\n",
       "      <td>173147.38</td>\n",
       "      <td>14960.25</td>\n",
       "      <td>1434.76</td>\n",
       "      <td>1470.00</td>\n",
       "      <td>17865.01</td>\n",
       "    </tr>\n",
       "    <tr>\n",
       "      <th>5</th>\n",
       "      <td>Jun</td>\n",
       "      <td>17082.75</td>\n",
       "      <td>20056.65</td>\n",
       "      <td>135206.77</td>\n",
       "      <td>172346.17</td>\n",
       "      <td>15732.23</td>\n",
       "      <td>1662.91</td>\n",
       "      <td>1462.00</td>\n",
       "      <td>18857.14</td>\n",
       "    </tr>\n",
       "    <tr>\n",
       "      <th>6</th>\n",
       "      <td>Jul</td>\n",
       "      <td>17965.03</td>\n",
       "      <td>22288.14</td>\n",
       "      <td>143531.78</td>\n",
       "      <td>183784.95</td>\n",
       "      <td>14612.62</td>\n",
       "      <td>2157.20</td>\n",
       "      <td>1781.00</td>\n",
       "      <td>18550.82</td>\n",
       "    </tr>\n",
       "    <tr>\n",
       "      <th>7</th>\n",
       "      <td>Aug</td>\n",
       "      <td>17720.17</td>\n",
       "      <td>21707.81</td>\n",
       "      <td>139714.63</td>\n",
       "      <td>179142.61</td>\n",
       "      <td>14591.92</td>\n",
       "      <td>1725.46</td>\n",
       "      <td>1745.00</td>\n",
       "      <td>18062.38</td>\n",
       "    </tr>\n",
       "    <tr>\n",
       "      <th>8</th>\n",
       "      <td>Sep</td>\n",
       "      <td>16870.28</td>\n",
       "      <td>21084.84</td>\n",
       "      <td>130178.03</td>\n",
       "      <td>168133.15</td>\n",
       "      <td>16882.66</td>\n",
       "      <td>1210.21</td>\n",
       "      <td>1515.00</td>\n",
       "      <td>19607.87</td>\n",
       "    </tr>\n",
       "    <tr>\n",
       "      <th>9</th>\n",
       "      <td>Okt</td>\n",
       "      <td>17579.24</td>\n",
       "      <td>21564.91</td>\n",
       "      <td>128966.72</td>\n",
       "      <td>168110.87</td>\n",
       "      <td>15624.29</td>\n",
       "      <td>1522.84</td>\n",
       "      <td>1547.00</td>\n",
       "      <td>18694.13</td>\n",
       "    </tr>\n",
       "    <tr>\n",
       "      <th>10</th>\n",
       "      <td>Nov</td>\n",
       "      <td>17567.79</td>\n",
       "      <td>20566.41</td>\n",
       "      <td>122411.82</td>\n",
       "      <td>160546.02</td>\n",
       "      <td>16581.58</td>\n",
       "      <td>1529.06</td>\n",
       "      <td>1581.00</td>\n",
       "      <td>19691.64</td>\n",
       "    </tr>\n",
       "    <tr>\n",
       "      <th>11</th>\n",
       "      <td>Dez</td>\n",
       "      <td>18653.34</td>\n",
       "      <td>22364.24</td>\n",
       "      <td>126539.08</td>\n",
       "      <td>167556.66</td>\n",
       "      <td>13484.32</td>\n",
       "      <td>1597.82</td>\n",
       "      <td>1722.00</td>\n",
       "      <td>16804.14</td>\n",
       "    </tr>\n",
       "  </tbody>\n",
       "</table>\n",
       "</div>"
      ],
      "text/plain": [
       "   Monat  Umsatz_A_Inland  Umsatz_B_Inland  Umsatz_C_Inland  \\\n",
       "0    Jan         15562.55         14774.46        148945.17   \n",
       "1    Feb         14055.57         15176.47        128859.95   \n",
       "2    Mrz         15633.91         18280.33        141602.71   \n",
       "3    Apr         15792.85         19095.32        133780.49   \n",
       "4    Mai         16947.49         20206.11        135993.78   \n",
       "5    Jun         17082.75         20056.65        135206.77   \n",
       "6    Jul         17965.03         22288.14        143531.78   \n",
       "7    Aug         17720.17         21707.81        139714.63   \n",
       "8    Sep         16870.28         21084.84        130178.03   \n",
       "9    Okt         17579.24         21564.91        128966.72   \n",
       "10   Nov         17567.79         20566.41        122411.82   \n",
       "11   Dez         18653.34         22364.24        126539.08   \n",
       "\n",
       "    Umsatz_gesamt_Inland  Umsatz_C_Ausland  Umsatz_A_Ausland  \\\n",
       "0              179282.18          15316.70           1897.12   \n",
       "1              158091.99          13714.71           1450.64   \n",
       "2              175516.95          14833.53           1752.35   \n",
       "3              168668.66          14823.54           1423.79   \n",
       "4              173147.38          14960.25           1434.76   \n",
       "5              172346.17          15732.23           1662.91   \n",
       "6              183784.95          14612.62           2157.20   \n",
       "7              179142.61          14591.92           1725.46   \n",
       "8              168133.15          16882.66           1210.21   \n",
       "9              168110.87          15624.29           1522.84   \n",
       "10             160546.02          16581.58           1529.06   \n",
       "11             167556.66          13484.32           1597.82   \n",
       "\n",
       "    Umsatz_B_Ausland  Umsatz_gesamt_Ausland  \n",
       "0            1617.47               18831.29  \n",
       "1            1349.00               16514.35  \n",
       "2            1369.00               17954.88  \n",
       "3            1375.00               17622.33  \n",
       "4            1470.00               17865.01  \n",
       "5            1462.00               18857.14  \n",
       "6            1781.00               18550.82  \n",
       "7            1745.00               18062.38  \n",
       "8            1515.00               19607.87  \n",
       "9            1547.00               18694.13  \n",
       "10           1581.00               19691.64  \n",
       "11           1722.00               16804.14  "
      ]
     },
     "execution_count": 28,
     "metadata": {},
     "output_type": "execute_result"
    }
   ],
   "source": [
    "gesamt_data"
   ]
  },
  {
   "cell_type": "code",
   "execution_count": 42,
   "metadata": {},
   "outputs": [
    {
     "ename": "ValueError",
     "evalue": "The truth value of a Series is ambiguous. Use a.empty, a.bool(), a.item(), a.any() or a.all().",
     "output_type": "error",
     "traceback": [
      "\u001b[1;31m---------------------------------------------------------------------------\u001b[0m",
      "\u001b[1;31mValueError\u001b[0m                                Traceback (most recent call last)",
      "Cell \u001b[1;32mIn[42], line 1\u001b[0m\n\u001b[1;32m----> 1\u001b[0m sns\u001b[39m.\u001b[39mbarplot(data\u001b[39m=\u001b[39mgesamt_data, x\u001b[39m=\u001b[39mgesamt_data\u001b[39m.\u001b[39mindex\u001b[39m.\u001b[39mget_level_values(\u001b[39m0\u001b[39m), y\u001b[39m=\u001b[39m[\u001b[39m\"\u001b[39m\u001b[39mUmsatz_gesamt_Inland\u001b[39m\u001b[39m\"\u001b[39m, \u001b[39m\"\u001b[39m\u001b[39mUmsatz_gesamt_Ausland\u001b[39m\u001b[39m\"\u001b[39m] )\n",
      "File \u001b[1;32mc:\\ProgramData\\Miniconda3\\envs\\Playground\\Lib\\site-packages\\seaborn\\categorical.py:2755\u001b[0m, in \u001b[0;36mbarplot\u001b[1;34m(data, x, y, hue, order, hue_order, estimator, errorbar, n_boot, units, seed, orient, color, palette, saturation, width, errcolor, errwidth, capsize, dodge, ci, ax, **kwargs)\u001b[0m\n\u001b[0;32m   2752\u001b[0m \u001b[39mif\u001b[39;00m estimator \u001b[39mis\u001b[39;00m \u001b[39mlen\u001b[39m:\n\u001b[0;32m   2753\u001b[0m     estimator \u001b[39m=\u001b[39m \u001b[39m\"\u001b[39m\u001b[39msize\u001b[39m\u001b[39m\"\u001b[39m\n\u001b[1;32m-> 2755\u001b[0m plotter \u001b[39m=\u001b[39m _BarPlotter(x, y, hue, data, order, hue_order,\n\u001b[0;32m   2756\u001b[0m                       estimator, errorbar, n_boot, units, seed,\n\u001b[0;32m   2757\u001b[0m                       orient, color, palette, saturation,\n\u001b[0;32m   2758\u001b[0m                       width, errcolor, errwidth, capsize, dodge)\n\u001b[0;32m   2760\u001b[0m \u001b[39mif\u001b[39;00m ax \u001b[39mis\u001b[39;00m \u001b[39mNone\u001b[39;00m:\n\u001b[0;32m   2761\u001b[0m     ax \u001b[39m=\u001b[39m plt\u001b[39m.\u001b[39mgca()\n",
      "File \u001b[1;32mc:\\ProgramData\\Miniconda3\\envs\\Playground\\Lib\\site-packages\\seaborn\\categorical.py:1530\u001b[0m, in \u001b[0;36m_BarPlotter.__init__\u001b[1;34m(self, x, y, hue, data, order, hue_order, estimator, errorbar, n_boot, units, seed, orient, color, palette, saturation, width, errcolor, errwidth, capsize, dodge)\u001b[0m\n\u001b[0;32m   1525\u001b[0m \u001b[39mdef\u001b[39;00m \u001b[39m__init__\u001b[39m(\u001b[39mself\u001b[39m, x, y, hue, data, order, hue_order,\n\u001b[0;32m   1526\u001b[0m              estimator, errorbar, n_boot, units, seed,\n\u001b[0;32m   1527\u001b[0m              orient, color, palette, saturation, width,\n\u001b[0;32m   1528\u001b[0m              errcolor, errwidth, capsize, dodge):\n\u001b[0;32m   1529\u001b[0m \u001b[39m    \u001b[39m\u001b[39m\"\"\"Initialize the plotter.\"\"\"\u001b[39;00m\n\u001b[1;32m-> 1530\u001b[0m     \u001b[39mself\u001b[39m\u001b[39m.\u001b[39mestablish_variables(x, y, hue, data, orient,\n\u001b[0;32m   1531\u001b[0m                              order, hue_order, units)\n\u001b[0;32m   1532\u001b[0m     \u001b[39mself\u001b[39m\u001b[39m.\u001b[39mestablish_colors(color, palette, saturation)\n\u001b[0;32m   1533\u001b[0m     \u001b[39mself\u001b[39m\u001b[39m.\u001b[39mestimate_statistic(estimator, errorbar, n_boot, seed)\n",
      "File \u001b[1;32mc:\\ProgramData\\Miniconda3\\envs\\Playground\\Lib\\site-packages\\seaborn\\categorical.py:544\u001b[0m, in \u001b[0;36m_CategoricalPlotter.establish_variables\u001b[1;34m(self, x, y, hue, data, orient, order, hue_order, units)\u001b[0m\n\u001b[0;32m    541\u001b[0m         \u001b[39mraise\u001b[39;00m \u001b[39mValueError\u001b[39;00m(err)\n\u001b[0;32m    543\u001b[0m \u001b[39m# Figure out the plotting orientation\u001b[39;00m\n\u001b[1;32m--> 544\u001b[0m orient \u001b[39m=\u001b[39m infer_orient(\n\u001b[0;32m    545\u001b[0m     x, y, orient, require_numeric\u001b[39m=\u001b[39m\u001b[39mself\u001b[39m\u001b[39m.\u001b[39mrequire_numeric\n\u001b[0;32m    546\u001b[0m )\n\u001b[0;32m    548\u001b[0m \u001b[39m# Option 2a:\u001b[39;00m\n\u001b[0;32m    549\u001b[0m \u001b[39m# We are plotting a single set of data\u001b[39;00m\n\u001b[0;32m    550\u001b[0m \u001b[39m# ------------------------------------\u001b[39;00m\n\u001b[0;32m    551\u001b[0m \u001b[39mif\u001b[39;00m x \u001b[39mis\u001b[39;00m \u001b[39mNone\u001b[39;00m \u001b[39mor\u001b[39;00m y \u001b[39mis\u001b[39;00m \u001b[39mNone\u001b[39;00m:\n\u001b[0;32m    552\u001b[0m \n\u001b[0;32m    553\u001b[0m     \u001b[39m# Determine where the data are\u001b[39;00m\n",
      "File \u001b[1;32mc:\\ProgramData\\Miniconda3\\envs\\Playground\\Lib\\site-packages\\seaborn\\_oldcore.py:1585\u001b[0m, in \u001b[0;36minfer_orient\u001b[1;34m(x, y, orient, require_numeric)\u001b[0m\n\u001b[0;32m   1557\u001b[0m \u001b[39m\u001b[39m\u001b[39m\"\"\"Determine how the plot should be oriented based on the data.\u001b[39;00m\n\u001b[0;32m   1558\u001b[0m \n\u001b[0;32m   1559\u001b[0m \u001b[39mFor historical reasons, the convention is to call a plot \"horizontally\"\u001b[39;00m\n\u001b[1;32m   (...)\u001b[0m\n\u001b[0;32m   1581\u001b[0m \n\u001b[0;32m   1582\u001b[0m \u001b[39m\"\"\"\u001b[39;00m\n\u001b[0;32m   1584\u001b[0m x_type \u001b[39m=\u001b[39m \u001b[39mNone\u001b[39;00m \u001b[39mif\u001b[39;00m x \u001b[39mis\u001b[39;00m \u001b[39mNone\u001b[39;00m \u001b[39melse\u001b[39;00m variable_type(x)\n\u001b[1;32m-> 1585\u001b[0m y_type \u001b[39m=\u001b[39m \u001b[39mNone\u001b[39;00m \u001b[39mif\u001b[39;00m y \u001b[39mis\u001b[39;00m \u001b[39mNone\u001b[39;00m \u001b[39melse\u001b[39;00m variable_type(y)\n\u001b[0;32m   1587\u001b[0m nonnumeric_dv_error \u001b[39m=\u001b[39m \u001b[39m\"\u001b[39m\u001b[39m{}\u001b[39;00m\u001b[39m orientation requires numeric `\u001b[39m\u001b[39m{}\u001b[39;00m\u001b[39m` variable.\u001b[39m\u001b[39m\"\u001b[39m\n\u001b[0;32m   1588\u001b[0m single_var_warning \u001b[39m=\u001b[39m \u001b[39m\"\u001b[39m\u001b[39m{}\u001b[39;00m\u001b[39m orientation ignored with only `\u001b[39m\u001b[39m{}\u001b[39;00m\u001b[39m` specified.\u001b[39m\u001b[39m\"\u001b[39m\n",
      "File \u001b[1;32mc:\\ProgramData\\Miniconda3\\envs\\Playground\\Lib\\site-packages\\seaborn\\_oldcore.py:1502\u001b[0m, in \u001b[0;36mvariable_type\u001b[1;34m(vector, boolean_type)\u001b[0m\n\u001b[0;32m   1499\u001b[0m     \u001b[39mreturn\u001b[39;00m VariableType(\u001b[39m\"\u001b[39m\u001b[39mcategorical\u001b[39m\u001b[39m\"\u001b[39m)\n\u001b[0;32m   1501\u001b[0m \u001b[39m# Special-case all-na data, which is always \"numeric\"\u001b[39;00m\n\u001b[1;32m-> 1502\u001b[0m \u001b[39mif\u001b[39;00m pd\u001b[39m.\u001b[39misna(vector)\u001b[39m.\u001b[39mall():\n\u001b[0;32m   1503\u001b[0m     \u001b[39mreturn\u001b[39;00m VariableType(\u001b[39m\"\u001b[39m\u001b[39mnumeric\u001b[39m\u001b[39m\"\u001b[39m)\n\u001b[0;32m   1505\u001b[0m \u001b[39m# Special-case binary/boolean data, allow caller to determine\u001b[39;00m\n\u001b[0;32m   1506\u001b[0m \u001b[39m# This triggers a numpy warning when vector has strings/objects\u001b[39;00m\n\u001b[0;32m   1507\u001b[0m \u001b[39m# https://github.com/numpy/numpy/issues/6784\u001b[39;00m\n\u001b[1;32m   (...)\u001b[0m\n\u001b[0;32m   1511\u001b[0m \u001b[39m# https://github.com/numpy/numpy/issues/13548\u001b[39;00m\n\u001b[0;32m   1512\u001b[0m \u001b[39m# This is considered a bug by numpy and will likely go away.\u001b[39;00m\n",
      "File \u001b[1;32mc:\\ProgramData\\Miniconda3\\envs\\Playground\\Lib\\site-packages\\pandas\\core\\generic.py:1527\u001b[0m, in \u001b[0;36mNDFrame.__nonzero__\u001b[1;34m(self)\u001b[0m\n\u001b[0;32m   1525\u001b[0m \u001b[39m@final\u001b[39m\n\u001b[0;32m   1526\u001b[0m \u001b[39mdef\u001b[39;00m \u001b[39m__nonzero__\u001b[39m(\u001b[39mself\u001b[39m) \u001b[39m-\u001b[39m\u001b[39m>\u001b[39m NoReturn:\n\u001b[1;32m-> 1527\u001b[0m     \u001b[39mraise\u001b[39;00m \u001b[39mValueError\u001b[39;00m(\n\u001b[0;32m   1528\u001b[0m         \u001b[39mf\u001b[39m\u001b[39m\"\u001b[39m\u001b[39mThe truth value of a \u001b[39m\u001b[39m{\u001b[39;00m\u001b[39mtype\u001b[39m(\u001b[39mself\u001b[39m)\u001b[39m.\u001b[39m\u001b[39m__name__\u001b[39m\u001b[39m}\u001b[39;00m\u001b[39m is ambiguous. \u001b[39m\u001b[39m\"\u001b[39m\n\u001b[0;32m   1529\u001b[0m         \u001b[39m\"\u001b[39m\u001b[39mUse a.empty, a.bool(), a.item(), a.any() or a.all().\u001b[39m\u001b[39m\"\u001b[39m\n\u001b[0;32m   1530\u001b[0m     )\n",
      "\u001b[1;31mValueError\u001b[0m: The truth value of a Series is ambiguous. Use a.empty, a.bool(), a.item(), a.any() or a.all()."
     ]
    }
   ],
   "source": [
    "df = \n",
    "sns.barplot(data=gesamt_data, x=gesamt_data.index.get_level_values(0), y=[\"Umsatz_gesamt_Inland\"] )"
   ]
  },
  {
   "cell_type": "code",
   "execution_count": 8,
   "metadata": {},
   "outputs": [
    {
     "name": "stdout",
     "output_type": "stream",
     "text": [
      "<class 'pandas.core.frame.DataFrame'>\n",
      "RangeIndex: 12 entries, 0 to 11\n",
      "Data columns (total 5 columns):\n",
      " #   Column                Non-Null Count  Dtype  \n",
      "---  ------                --------------  -----  \n",
      " 0   Monat                 12 non-null     object \n",
      " 1   Umsatz_A_Inland       12 non-null     float64\n",
      " 2   Umsatz_B_Inland       12 non-null     float64\n",
      " 3   Umsatz_C_Inland       12 non-null     float64\n",
      " 4   Umsatz_gesamt_Inland  12 non-null     float64\n",
      "dtypes: float64(4), object(1)\n",
      "memory usage: 612.0+ bytes\n",
      "None\n",
      "<class 'pandas.core.frame.DataFrame'>\n",
      "RangeIndex: 12 entries, 0 to 11\n",
      "Data columns (total 6 columns):\n",
      " #   Column                 Non-Null Count  Dtype  \n",
      "---  ------                 --------------  -----  \n",
      " 0   Unnamed: 0             12 non-null     int64  \n",
      " 1   Datum                  12 non-null     object \n",
      " 2   Umsatz_C_Ausland       12 non-null     float64\n",
      " 3   Umsatz_A_Ausland       12 non-null     float64\n",
      " 4   Umsatz_B_Ausland       12 non-null     float64\n",
      " 5   Umsatz_gesamt_Ausland  12 non-null     float64\n",
      "dtypes: float64(4), int64(1), object(1)\n",
      "memory usage: 708.0+ bytes\n",
      "None\n"
     ]
    }
   ],
   "source": [
    "# Spalten und Datentypen\n",
    "print(inland_data.info())\n",
    "print(ausland_data.info())\n"
   ]
  },
  {
   "cell_type": "code",
   "execution_count": 9,
   "metadata": {},
   "outputs": [
    {
     "name": "stdout",
     "output_type": "stream",
     "text": [
      "       Umsatz_A_Inland  Umsatz_B_Inland  Umsatz_C_Inland  Umsatz_gesamt_Inland\n",
      "count        12.000000        12.000000        12.000000             12.000000\n",
      "mean      16785.914167     19763.807500    134644.244167         171193.965833\n",
      "std        1292.536200      2547.960689      7754.663591           7594.773240\n",
      "min       14055.570000     14774.460000    122411.820000         158091.990000\n",
      "25%       15753.115000     18891.572500    128940.027500         167972.317500\n",
      "50%       17015.120000     20386.260000    134493.630000         170507.415000\n",
      "75%       17614.472500     21600.635000    140186.650000         176423.365000\n",
      "max       18653.340000     22364.240000    148945.170000         183784.950000\n",
      "       Unnamed: 0  Umsatz_C_Ausland  Umsatz_A_Ausland  Umsatz_B_Ausland  \\\n",
      "count   12.000000         12.000000         12.000000         12.000000   \n",
      "mean     5.500000      15096.529167       1613.680000       1544.455833   \n",
      "std      3.605551       1012.937507        249.181315        149.325559   \n",
      "min      0.000000      13484.320000       1210.210000       1349.000000   \n",
      "25%      2.750000      14607.445000       1446.670000       1440.250000   \n",
      "50%      5.500000      14896.890000       1563.440000       1531.000000   \n",
      "75%      8.250000      15651.275000       1732.182500       1643.602500   \n",
      "max     11.000000      16882.660000       2157.200000       1781.000000   \n",
      "\n",
      "       Umsatz_gesamt_Ausland  \n",
      "count              12.000000  \n",
      "mean            18254.665000  \n",
      "std               985.513845  \n",
      "min             16514.350000  \n",
      "25%             17804.340000  \n",
      "50%             18306.600000  \n",
      "75%             18837.752500  \n",
      "max             19691.640000  \n"
     ]
    }
   ],
   "source": [
    "#Statistiken anzeigen\n",
    "print(inland_data.describe())\n",
    "print(ausland_data.describe())"
   ]
  },
  {
   "cell_type": "code",
   "execution_count": null,
   "metadata": {},
   "outputs": [],
   "source": [
    "print(\"Deutsche Verkaufsdaten:\")\n",
    "print(german_data.head())  # Zeige die ersten Zeilen der Daten\n",
    "print(german_data.describe())  # Berechne statistische Kennzahlen\n",
    "print(german_data.info())  # Zeige Informationen zu den Datentypen"
   ]
  },
  {
   "cell_type": "code",
   "execution_count": null,
   "metadata": {},
   "outputs": [],
   "source": [
    "# EDA für Verkaufsdaten für den Rest Europas\n",
    "print(\"Verkaufsdaten für den Rest Europas:\")\n",
    "print(europe_data.head())\n",
    "print(europe_data.describe())\n",
    "print(europe_data.info())"
   ]
  },
  {
   "cell_type": "code",
   "execution_count": 15,
   "metadata": {},
   "outputs": [
    {
     "data": {
      "text/plain": [
       "<Axes: >"
      ]
     },
     "execution_count": 15,
     "metadata": {},
     "output_type": "execute_result"
    },
    {
     "data": {
      "image/png": "[encoded data removed]",
      "text/plain": [
       "<Figure size 1000x600 with 1 Axes>"
      ]
     },
     "metadata": {},
     "output_type": "display_data"
    }
   ],
   "source": [
    "#Visualisierung der Verteilung der Verkäufe nach Produkten und Shops\n",
    "plt.figure(figsize=(10, 6))\n",
    "\n"
   ]
  },
  {
   "cell_type": "code",
   "execution_count": null,
   "metadata": {},
   "outputs": [],
   "source": [
    "plt.figure(figsize=(10, 6))\n",
    "german_data['Shop'].value_counts().plot(kind='bar')\n",
    "plt.title('Verteilung der Verkäufe nach Shops (Deutschland)')\n",
    "plt.xlabel('Shop')\n",
    "plt.ylabel('Anzahl Verkäufe')\n",
    "plt.show()"
   ]
  },
  {
   "cell_type": "code",
   "execution_count": null,
   "metadata": {},
   "outputs": [],
   "source": [
    "# Bereinigung der Daten\n",
    "# Entfernen von Duplikaten\n",
    "german_data = german_data.drop_duplicates()\n",
    "europe_data = europe_data.drop_duplicates()"
   ]
  },
  {
   "cell_type": "code",
   "execution_count": null,
   "metadata": {},
   "outputs": [],
   "source": [
    "# Behandlung von fehlenden Werten\n",
    "german_data = german_data.dropna()\n",
    "europe_data = europe_data.dropna()"
   ]
  },
  {
   "cell_type": "code",
   "execution_count": null,
   "metadata": {},
   "outputs": [],
   "source": [
    "# Überprüfen der bereinigten Daten\n",
    "print(\"Bereinigte deutsche Verkaufsdaten:\")\n",
    "print(german_data.head())\n",
    "print(german_data.info())\n",
    "\n",
    "print(\"Bereinigte Verkaufsdaten für den Rest Europas:\")\n",
    "print(europe_data.head())\n",
    "print(europe_data.info())"
   ]
  },
  {
   "cell_type": "code",
   "execution_count": null,
   "metadata": {},
   "outputs": [],
   "source": []
  }
 ],
 "metadata": {
  "kernelspec": {
   "display_name": "Datacraft",
   "language": "python",
   "name": "python3"
  },
  "language_info": {
   "codemirror_mode": {
    "name": "ipython",
    "version": 3
   },
   "file_extension": ".py",
   "mimetype": "text/x-python",
   "name": "python",
   "nbconvert_exporter": "python",
   "pygments_lexer": "ipython3",
   "version": "3.11.3"
  },
  "orig_nbformat": 4
 },
 "nbformat": 4,
 "nbformat_minor": 2
}
